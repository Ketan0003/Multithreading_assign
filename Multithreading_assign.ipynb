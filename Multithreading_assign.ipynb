{
 "cells": [
  {
   "cell_type": "markdown",
   "id": "9325c026-8afc-427f-a2fc-901cd0121a32",
   "metadata": {},
   "source": [
    "## Multithreading Assignment"
   ]
  },
  {
   "cell_type": "markdown",
   "id": "c4c04121-8988-45b0-8fa4-a8ceb0cc00df",
   "metadata": {},
   "source": [
    "## Question 1"
   ]
  },
  {
   "cell_type": "markdown",
   "id": "ebf3ab39-10de-4677-93ca-0eddc167f6a4",
   "metadata": {},
   "source": [
    "#### What is multithreading in python? why is it used? Name the module used to handle threads in python"
   ]
  },
  {
   "cell_type": "markdown",
   "id": "9a6ec073-0643-4c67-97d9-942c76a67926",
   "metadata": {},
   "source": [
    "#### Ans:- Multithreading is a process in which a individual threads are created of the program for the execuation in multiple instancees or simultaneously , it used to multitask the program and run multiple instance in the single core system which provide the high efficiency in executing the code with less time.\n",
    "#### The module used to handle the Threads is \"threading\""
   ]
  },
  {
   "cell_type": "markdown",
   "id": "9fcf21d9-96c2-4e39-925b-d8f0b6e14aa5",
   "metadata": {},
   "source": [
    "## Question 2"
   ]
  },
  {
   "cell_type": "markdown",
   "id": "90dddb85-3e17-4a6b-9bdf-5e4a6826f534",
   "metadata": {},
   "source": [
    "#### Why threading module used?\n",
    "#### Ans:- threading module is used to handle the threads in the system, it manages from creation, initilization and releasing the resouces.\n",
    "\n",
    "#### Write the use of the following functions.\n",
    "\n",
    "#### .activeCount() :- This method is used to count currently active or running threads.\n",
    "#### 2.currentThread() :- This method is used to return the current thread object which corrosponds to caller's thread of control.\n",
    "#### 3.enumerate() :- This method return list of all thread object that are currenty active.\n"
   ]
  },
  {
   "cell_type": "markdown",
   "id": "b0b99b67-239b-4bc2-9baa-ae1579a5fc53",
   "metadata": {},
   "source": [
    "## Question 3"
   ]
  },
  {
   "cell_type": "markdown",
   "id": "747f20e2-65af-483e-815b-3af9ed693767",
   "metadata": {},
   "source": [
    "#### Explain the following functions\n",
    "\n",
    "#### 1.run() :- It used to represent the thread activity, Its an inbuild class on thread.It is the entry point of the thread.\n",
    "#### 2.start() : - The start() method calls the run() method to start the thread,from here the threads begin to execute the program.\n",
    "#### 3.join() :- used to release the resources i.e ram, cpu, etc once the code is completed.\n",
    "#### 4.isAlive() :- checks whether the thread is still executing the code. "
   ]
  },
  {
   "cell_type": "markdown",
   "id": "6381dd45-1389-47b7-9cea-9c7f28ebfd99",
   "metadata": {},
   "source": [
    "## Question 4"
   ]
  },
  {
   "cell_type": "markdown",
   "id": "a08801cb-f4dc-4ca3-97fe-84332d811d75",
   "metadata": {},
   "source": [
    "#### Write a python program to create two threads. Thread one must print the list of squares and thread two must print the list of cubes"
   ]
  },
  {
   "cell_type": "code",
   "execution_count": 24,
   "id": "87592008-058a-413e-9ff7-2b8dce810155",
   "metadata": {},
   "outputs": [],
   "source": [
    "import threading\n",
    "n= [1,2,3,4,5,6]\n",
    "def square(n):\n",
    "    print(f'The square of {n} is {n**2}')\n",
    "\n",
    "def cube(n):\n",
    "    print(f'The cube of {n} is {n**3}')\n",
    "\n",
    "thread_square = [threading.Thread(target=square, args=(n[i],)) for i in range(len(n))]\n",
    "thred_cube = [threading.Thread(target=cube, args=(n[i],)) for i in range(len(n))]"
   ]
  },
  {
   "cell_type": "code",
   "execution_count": 25,
   "id": "fd9c3bb7-ffc1-4b12-b966-652e680d978e",
   "metadata": {},
   "outputs": [
    {
     "data": {
      "text/plain": [
       "[<Thread(Thread-51 (cube), initial)>,\n",
       " <Thread(Thread-52 (cube), initial)>,\n",
       " <Thread(Thread-53 (cube), initial)>,\n",
       " <Thread(Thread-54 (cube), initial)>,\n",
       " <Thread(Thread-55 (cube), initial)>,\n",
       " <Thread(Thread-56 (cube), initial)>]"
      ]
     },
     "execution_count": 25,
     "metadata": {},
     "output_type": "execute_result"
    }
   ],
   "source": [
    "thred_cube"
   ]
  },
  {
   "cell_type": "code",
   "execution_count": 26,
   "id": "aa3b385a-2842-478b-9796-1e4b7790bcfd",
   "metadata": {},
   "outputs": [
    {
     "name": "stdout",
     "output_type": "stream",
     "text": [
      "The square of 1 is 1\n",
      "The square of 2 is 4\n",
      "The square of 3 is 9\n",
      "The square of 4 is 16\n",
      "The square of 5 is 25\n",
      "The square of 6 is 36\n",
      "*******************************\n",
      "The cube of 1 is 1\n",
      "The cube of 2 is 8\n",
      "The cube of 3 is 27\n",
      "The cube of 4 is 64\n",
      "The cube of 5 is 125\n",
      "The cube of 6 is 216\n"
     ]
    }
   ],
   "source": [
    "for t in thread_square:\n",
    "    t.start()\n",
    "    t.join()\n",
    "print('*******************************')\n",
    "for t in thred_cube:\n",
    "    t.start()\n",
    "    t.join()"
   ]
  },
  {
   "cell_type": "markdown",
   "id": "474c6d44-5d27-496b-b04b-f044dcd300fa",
   "metadata": {},
   "source": [
    "## Question 5"
   ]
  },
  {
   "cell_type": "markdown",
   "id": "a79d2e33-5e48-46ba-9e19-b1adf024ec4c",
   "metadata": {},
   "source": [
    "#### State advantages and disadvantages of multithreading\n",
    "#### Ans:- \n",
    "#### Advantages of multithreading :\n",
    "1. Faster execution of the program.\n",
    "2. Simultinous and parallel occurence of the task.\n",
    "3. Better utiliztion of cache memory by utilization of resources.\n",
    "4. Enhance performance and decrease the time of execution of the program\n",
    "\n",
    "#### Diadvantaged of multithreading :\n",
    "1. Complex writing of the program.\n",
    "2. Difficulty in debugging the code\n",
    "3. Increase the chances of deadlock occurence.\n",
    "4. unpredicable results."
   ]
  },
  {
   "cell_type": "markdown",
   "id": "46750288-f27c-4be4-ae0d-062b94b9f2a4",
   "metadata": {},
   "source": [
    "## Question 6"
   ]
  },
  {
   "cell_type": "markdown",
   "id": "7f4e38d9-6914-4a47-a59a-dbc80289ff22",
   "metadata": {},
   "source": [
    "#### Explain deadlocks and race conditions.\n",
    "#### Ans :- \n",
    "#### Deadlock:- It refers to the condition where the thread 1 is waiting for the resullts of the thread 2 and thread 2 is waiting for the output of the thread 1 which results in neither of the threads can progress and the program will hault until it is terminated externally.\n",
    "#### Real life eg:- Two person tried to call each other at the same time.\n",
    "\n",
    "#### Racecondition:- It is the condition in which the two or more threads which have access to shared data tries to change the data at the same time. the execuatiom of the these threads depends on the scheduling algorithm and gives the output. as these threads tries to race each other these condition is called the racing condition.  \n",
    "#### Real life eg : - pressing the single swith by multiple people at the same time.\n",
    "\n",
    "#### The above both these situation can be tacke following the syncronization."
   ]
  },
  {
   "cell_type": "code",
   "execution_count": null,
   "id": "f6635932-d150-481c-9771-5ba217f227d0",
   "metadata": {},
   "outputs": [],
   "source": []
  }
 ],
 "metadata": {
  "kernelspec": {
   "display_name": "Python 3 (ipykernel)",
   "language": "python",
   "name": "python3"
  },
  "language_info": {
   "codemirror_mode": {
    "name": "ipython",
    "version": 3
   },
   "file_extension": ".py",
   "mimetype": "text/x-python",
   "name": "python",
   "nbconvert_exporter": "python",
   "pygments_lexer": "ipython3",
   "version": "3.10.8"
  }
 },
 "nbformat": 4,
 "nbformat_minor": 5
}
